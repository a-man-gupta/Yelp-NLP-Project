{
 "cells": [
  {
   "cell_type": "markdown",
   "metadata": {},
   "source": [
    "# IMPORTS"
   ]
  },
  {
   "cell_type": "code",
   "execution_count": 5,
   "metadata": {},
   "outputs": [],
   "source": [
    "import pandas as pd \n",
    "import numpy as np \n",
    "import seaborn as sns \n",
    "from matplotlib import pyplot as plt\n",
    "from tqdm import tqdm\n",
    "import nltk\n",
    "import re\n",
    "from wordcloud import WordCloud\n",
    "from nltk.util import ngrams\n",
    "from sklearn.feature_extraction.text import CountVectorizer\n",
    "import torch\n",
    "from torch.utils.data import Dataset, DataLoader\n",
    "from transformers import TrainingArguments, Trainer, AutoModelForSequenceClassification, AutoTokenizer\n",
    "from sklearn.model_selection import train_test_split\n",
    "from sklearn.metrics import classification_report, confusion_matrix\n",
    "tqdm.pandas()\n"
   ]
  },
  {
   "cell_type": "code",
   "execution_count": 115,
   "metadata": {},
   "outputs": [
    {
     "name": "stderr",
     "output_type": "stream",
     "text": [
      "[nltk_data] Downloading package punkt_tab to\n",
      "[nltk_data]     C:\\Users\\dpate\\AppData\\Roaming\\nltk_data...\n",
      "[nltk_data]   Package punkt_tab is already up-to-date!\n",
      "[nltk_data] Downloading package stopwords to\n",
      "[nltk_data]     C:\\Users\\dpate\\AppData\\Roaming\\nltk_data...\n",
      "[nltk_data]   Package stopwords is already up-to-date!\n",
      "[nltk_data] Downloading package averaged_perceptron_tagger_eng to\n",
      "[nltk_data]     C:\\Users\\dpate\\AppData\\Roaming\\nltk_data...\n",
      "[nltk_data]   Package averaged_perceptron_tagger_eng is already up-to-\n",
      "[nltk_data]       date!\n"
     ]
    },
    {
     "data": {
      "text/plain": [
       "True"
      ]
     },
     "execution_count": 115,
     "metadata": {},
     "output_type": "execute_result"
    }
   ],
   "source": [
    "nltk.download('punkt_tab')\n",
    "nltk.download('stopwords')\n",
    "nltk.download('averaged_perceptron_tagger_eng')"
   ]
  },
  {
   "cell_type": "markdown",
   "metadata": {},
   "source": [
    "# DATA PREPROCESSING & EXPLORATION"
   ]
  },
  {
   "cell_type": "code",
   "execution_count": 3,
   "metadata": {},
   "outputs": [],
   "source": [
    "# review_df = pd.read_json('yelp_academic_dataset_review.json', lines=True, chunksize=50000)\n",
    "# review_df = pd.concat(review_df, ignore_index=True)\n",
    "\n",
    "# review_df.head()\n",
    "\n",
    "# business_df = pd.read_json('yelp_academic_dataset_business.json', lines=True, chunksize=50000)\n",
    "# business_df = pd.concat(business_df, ignore_index=True)\n",
    "# filtered_business_df = business_df[business_df['state'] == 'PA']\n",
    "# business_df.head()\n",
    "\n",
    "# filtered_reviews = review_df[review_df['business_id'].isin(filtered_business_df['business_id'])]\n",
    "# filtered_reviews.head()\n",
    "\n",
    "# filtered_reviews.to_csv('filtered_reviews_PA.csv', index=False)"
   ]
  },
  {
   "cell_type": "code",
   "execution_count": null,
   "metadata": {},
   "outputs": [],
   "source": [
    "df = pd.read_csv('filtered_reviews_PA.csv', chunksize=10000)\n",
    "df = pd.concat(df, ignore_index=True)\n",
    "df.shape\n",
    "df.head()"
   ]
  },
  {
   "cell_type": "code",
   "execution_count": null,
   "metadata": {},
   "outputs": [],
   "source": [
    "sample_raw_df = df.sample(frac=0.001, random_state=42)\n",
    "sample_raw_df.to_csv('test_raw_sample_reviews_PA.csv', index=False)\n",
    "print(sample_raw_df.shape)\n",
    "sample_raw_df.head()"
   ]
  },
  {
   "cell_type": "code",
   "execution_count": 6,
   "metadata": {},
   "outputs": [],
   "source": [
    "def preprocess_text(text):\n",
    "    # Convert to lowercase\n",
    "    text = text.lower()\n",
    "    \n",
    "    # Remove punctuation\n",
    "    text = re.sub(r'[^\\w\\s]', '', text)\n",
    "    \n",
    "    # Tokenize\n",
    "    tokens = nltk.word_tokenize(text)\n",
    "    \n",
    "    # Remove stopwords\n",
    "    stop_words = set(nltk.corpus.stopwords.words('english'))\n",
    "    tokens = [word for word in tokens if word not in stop_words]\n",
    "    \n",
    "    # Join tokens back into string\n",
    "    return ' '.join(tokens)"
   ]
  },
  {
   "cell_type": "code",
   "execution_count": 7,
   "metadata": {},
   "outputs": [],
   "source": [
    "# preprocessed_df = df.copy()\n",
    "# preprocessed_df['text'] = preprocessed_df['text'].progress_apply(preprocess_text)\n",
    "# preprocessed_df.head()"
   ]
  },
  {
   "cell_type": "code",
   "execution_count": 8,
   "metadata": {},
   "outputs": [],
   "source": [
    "# preprocessed_df.to_csv('preprocessed_reviews_PA.csv', index=False)"
   ]
  },
  {
   "cell_type": "code",
   "execution_count": null,
   "metadata": {},
   "outputs": [],
   "source": [
    "preprocessed_df = pd.read_csv('preprocessed_reviews_PA.csv')\n",
    "print(preprocessed_df.shape)\n",
    "preprocessed_df.head()"
   ]
  },
  {
   "cell_type": "code",
   "execution_count": null,
   "metadata": {},
   "outputs": [],
   "source": [
    "# preprocessed_df.shape\n",
    "\n",
    "# sample_df = preprocessed_df.sample(frac=0.1, random_state=42)\n",
    "# sample_df.to_csv('sample_reviews_PA.csv', index=False)\n",
    "# sample_df.head()"
   ]
  },
  {
   "cell_type": "code",
   "execution_count": null,
   "metadata": {},
   "outputs": [],
   "source": [
    "sample_df = preprocessed_df.sample(frac=0.001, random_state=42)\n",
    "sample_df.to_csv('test_sample_reviews_PA.csv', index=False)\n",
    "print(sample_df.shape)\n",
    "sample_df.head()"
   ]
  },
  {
   "cell_type": "code",
   "execution_count": null,
   "metadata": {},
   "outputs": [],
   "source": [
    "useful = preprocessed_df['useful'].sum()\n",
    "funny = preprocessed_df['funny'].sum()\n",
    "cool = preprocessed_df['cool'].sum()\n",
    "\n",
    "plt.figure(figsize=(10, 5))\n",
    "plt.bar(['useful', 'funny', 'cool'], [useful, funny, cool])\n",
    "plt.xlabel('Type')\n",
    "plt.ylabel('Count')\n",
    "plt.title('Count of useful, funny, and cool')\n",
    "plt.show()\n"
   ]
  },
  {
   "cell_type": "code",
   "execution_count": null,
   "metadata": {},
   "outputs": [],
   "source": [
    "pp_text = preprocessed_df['text']\n",
    "\n",
    "# Define custom words to filter out\n",
    "custom_stop_words = {'food', 'place', 'one', 'ive'}\n",
    "# Filter out custom words from text\n",
    "pp_text = pp_text.apply(lambda x: ' '.join([word for word in str(x).split() if word not in custom_stop_words]))\n",
    "\n",
    "\n",
    "wordcloud = WordCloud(width=800, height=400, background_color='white').generate(pp_text.to_string())\n",
    "\n",
    "plt.figure(figsize=(10, 5))\n",
    "plt.imshow(wordcloud, interpolation='bilinear')\n",
    "plt.axis('off')\n",
    "plt.show()\n",
    "\n"
   ]
  },
  {
   "cell_type": "code",
   "execution_count": null,
   "metadata": {},
   "outputs": [],
   "source": [
    "# Create scatter plots comparing text length vs useful/funny/cool votes\n",
    "fig, (ax1, ax2, ax3) = plt.subplots(1, 3, figsize=(10,6))\n",
    "\n",
    "# Calculate text lengths\n",
    "text_lengths = preprocessed_df['text'].str.len()\n",
    "\n",
    "# Calculate correlation coefficients\n",
    "test_useful_corr = np.corrcoef(text_lengths.fillna(0), preprocessed_df['useful'].fillna(0))[0,1]\n",
    "test_funny_corr = np.corrcoef(text_lengths.fillna(0), preprocessed_df['funny'].fillna(0))[0,1]\n",
    "test_cool_corr = np.corrcoef(text_lengths.fillna(0), preprocessed_df['cool'].fillna(0))[0,1]\n",
    "\n",
    "# Plot useful votes\n",
    "ax1.scatter(text_lengths, preprocessed_df['useful'], color='red', alpha=0.5)\n",
    "ax1.set_xlabel('Text Length')\n",
    "ax1.set_ylabel('Number of Votes')\n",
    "ax1.set_title(f'Useful Votes\\nCorrelation: {test_useful_corr:.3f}')\n",
    "\n",
    "# Plot funny votes\n",
    "ax2.scatter(text_lengths, preprocessed_df['funny'], color='green', alpha=0.5)\n",
    "ax2.set_xlabel('Text Length') \n",
    "ax2.set_ylabel('Number of Votes')\n",
    "ax2.set_title(f'Funny Votes\\nCorrelation: {test_funny_corr:.3f}')\n",
    "\n",
    "# Plot cool votes\n",
    "ax3.scatter(text_lengths, preprocessed_df['cool'], color='blue', alpha=0.5)\n",
    "ax3.set_xlabel('Text Length')\n",
    "ax3.set_ylabel('Number of Votes') \n",
    "ax3.set_title(f'Cool Votes\\nCorrelation: {test_cool_corr:.3f}')\n",
    "\n",
    "plt.tight_layout()\n",
    "plt.show()"
   ]
  },
  {
   "cell_type": "code",
   "execution_count": 14,
   "metadata": {},
   "outputs": [],
   "source": [
    "def get_top_ngram(corpus, n=None):\n",
    "    vec = CountVectorizer(ngram_range=(n, n)).fit(corpus)\n",
    "    bag_of_words = vec.transform(corpus)\n",
    "    sum_words = bag_of_words.sum(axis=0)\n",
    "    words_freq = [(word, sum_words[0, idx])\n",
    "                  for word, idx in vec.vocabulary_.items()]\n",
    "    words_freq =sorted(words_freq, key = lambda x: x[1], reverse=True)\n",
    "    return words_freq[:10]"
   ]
  },
  {
   "cell_type": "code",
   "execution_count": null,
   "metadata": {},
   "outputs": [],
   "source": [
    "pp_text_useful = preprocessed_df[preprocessed_df['useful'] > 0]['text']\n",
    "\n",
    "# Remove any rows with NaN values\n",
    "pp_text_useful = pp_text_useful.dropna()\n",
    "\n",
    "\n",
    "top_ngrams = get_top_ngram(pp_text_useful, 3)\n",
    "x,y=map(list,zip(*top_ngrams))\n",
    "sns.barplot(x=y,y=x)"
   ]
  },
  {
   "cell_type": "code",
   "execution_count": null,
   "metadata": {},
   "outputs": [],
   "source": [
    "top_ngrams = get_top_ngram(pp_text_useful, 2)\n",
    "x,y=map(list,zip(*top_ngrams))\n",
    "sns.barplot(x=y,y=x)"
   ]
  },
  {
   "cell_type": "code",
   "execution_count": null,
   "metadata": {},
   "outputs": [],
   "source": [
    "pp_text_funny = preprocessed_df[preprocessed_df['funny'] > 0]['text']\n",
    "pp_text_funny = pp_text_funny.dropna()\n",
    "\n",
    "top_ngrams = get_top_ngram(pp_text_funny, 3)\n",
    "x,y=map(list,zip(*top_ngrams))\n",
    "sns.barplot(x=y,y=x)\n"
   ]
  },
  {
   "cell_type": "code",
   "execution_count": null,
   "metadata": {},
   "outputs": [],
   "source": [
    "top_ngrams = get_top_ngram(pp_text_funny, 2)\n",
    "x,y=map(list,zip(*top_ngrams))\n",
    "sns.barplot(x=y,y=x)"
   ]
  },
  {
   "cell_type": "code",
   "execution_count": null,
   "metadata": {},
   "outputs": [],
   "source": [
    "pp_text_cool = preprocessed_df[preprocessed_df['cool'] > 0]['text']\n",
    "pp_text_cool = pp_text_cool.dropna()\n",
    "top_ngrams = get_top_ngram(pp_text_cool, 3)\n",
    "x,y=map(list,zip(*top_ngrams))\n",
    "sns.barplot(x=y,y=x)\n"
   ]
  },
  {
   "cell_type": "code",
   "execution_count": null,
   "metadata": {},
   "outputs": [],
   "source": [
    "top_ngrams = get_top_ngram(pp_text_cool, 2)\n",
    "x,y=map(list,zip(*top_ngrams))\n",
    "sns.barplot(x=y,y=x)"
   ]
  },
  {
   "cell_type": "markdown",
   "metadata": {},
   "source": [
    "# MACHINE LEARNING MODEL"
   ]
  },
  {
   "cell_type": "markdown",
   "metadata": {},
   "source": [
    "### Load Data"
   ]
  },
  {
   "cell_type": "code",
   "execution_count": 6,
   "metadata": {},
   "outputs": [
    {
     "name": "stdout",
     "output_type": "stream",
     "text": [
      "Using deivce:  cuda\n"
     ]
    }
   ],
   "source": [
    "device = torch.device('cuda' if torch.cuda.is_available() else 'cpu')\n",
    "print('Using deivce: ', device)"
   ]
  },
  {
   "cell_type": "code",
   "execution_count": 7,
   "metadata": {},
   "outputs": [
    {
     "name": "stdout",
     "output_type": "stream",
     "text": [
      "(1598960, 9)\n"
     ]
    },
    {
     "data": {
      "text/html": [
       "<div>\n",
       "<style scoped>\n",
       "    .dataframe tbody tr th:only-of-type {\n",
       "        vertical-align: middle;\n",
       "    }\n",
       "\n",
       "    .dataframe tbody tr th {\n",
       "        vertical-align: top;\n",
       "    }\n",
       "\n",
       "    .dataframe thead th {\n",
       "        text-align: right;\n",
       "    }\n",
       "</style>\n",
       "<table border=\"1\" class=\"dataframe\">\n",
       "  <thead>\n",
       "    <tr style=\"text-align: right;\">\n",
       "      <th></th>\n",
       "      <th>review_id</th>\n",
       "      <th>user_id</th>\n",
       "      <th>business_id</th>\n",
       "      <th>stars</th>\n",
       "      <th>useful</th>\n",
       "      <th>funny</th>\n",
       "      <th>cool</th>\n",
       "      <th>text</th>\n",
       "      <th>date</th>\n",
       "    </tr>\n",
       "  </thead>\n",
       "  <tbody>\n",
       "    <tr>\n",
       "      <th>0</th>\n",
       "      <td>KU_O5udG6zpxOg-VcAEodg</td>\n",
       "      <td>mh_-eMZ6K5RLWhZyISBhwA</td>\n",
       "      <td>XQfwVwDr-v0ZS3_CbbE5Xw</td>\n",
       "      <td>3</td>\n",
       "      <td>0</td>\n",
       "      <td>0</td>\n",
       "      <td>0</td>\n",
       "      <td>If you decide to eat here, just be aware it is...</td>\n",
       "      <td>2018-07-07 22:09:11</td>\n",
       "    </tr>\n",
       "    <tr>\n",
       "      <th>1</th>\n",
       "      <td>BiTunyQ73aT9WBnpR9DZGw</td>\n",
       "      <td>OyoGAe7OKpv6SyGZT5g77Q</td>\n",
       "      <td>7ATYjTIgM3jUlt4UM3IypQ</td>\n",
       "      <td>5</td>\n",
       "      <td>1</td>\n",
       "      <td>0</td>\n",
       "      <td>1</td>\n",
       "      <td>I've taken a lot of spin classes over the year...</td>\n",
       "      <td>2012-01-03 15:28:18</td>\n",
       "    </tr>\n",
       "    <tr>\n",
       "      <th>2</th>\n",
       "      <td>AqPFMleE6RsU23_auESxiA</td>\n",
       "      <td>_7bHUi9Uuf5__HHc_Q8guQ</td>\n",
       "      <td>kxX2SOes4o-D3ZQBkiMRfA</td>\n",
       "      <td>5</td>\n",
       "      <td>1</td>\n",
       "      <td>0</td>\n",
       "      <td>1</td>\n",
       "      <td>Wow!  Yummy, different,  delicious.   Our favo...</td>\n",
       "      <td>2015-01-04 00:01:03</td>\n",
       "    </tr>\n",
       "    <tr>\n",
       "      <th>3</th>\n",
       "      <td>JrIxlS1TzJ-iCu79ul40cQ</td>\n",
       "      <td>eUta8W_HdHMXPzLBBZhL1A</td>\n",
       "      <td>04UD14gamNjLY0IDYVhHJg</td>\n",
       "      <td>1</td>\n",
       "      <td>1</td>\n",
       "      <td>2</td>\n",
       "      <td>1</td>\n",
       "      <td>I am a long term frequent customer of this est...</td>\n",
       "      <td>2015-09-23 23:10:31</td>\n",
       "    </tr>\n",
       "    <tr>\n",
       "      <th>4</th>\n",
       "      <td>_ZeMknuYdlQcUqng_Im3yg</td>\n",
       "      <td>yfFzsLmaWF2d4Sr0UNbBgg</td>\n",
       "      <td>LHSTtnW3YHCeUkRDGyJOyw</td>\n",
       "      <td>5</td>\n",
       "      <td>2</td>\n",
       "      <td>0</td>\n",
       "      <td>0</td>\n",
       "      <td>Amazingly amazing wings and homemade bleu chee...</td>\n",
       "      <td>2015-08-07 02:29:16</td>\n",
       "    </tr>\n",
       "  </tbody>\n",
       "</table>\n",
       "</div>"
      ],
      "text/plain": [
       "                review_id                 user_id             business_id  \\\n",
       "0  KU_O5udG6zpxOg-VcAEodg  mh_-eMZ6K5RLWhZyISBhwA  XQfwVwDr-v0ZS3_CbbE5Xw   \n",
       "1  BiTunyQ73aT9WBnpR9DZGw  OyoGAe7OKpv6SyGZT5g77Q  7ATYjTIgM3jUlt4UM3IypQ   \n",
       "2  AqPFMleE6RsU23_auESxiA  _7bHUi9Uuf5__HHc_Q8guQ  kxX2SOes4o-D3ZQBkiMRfA   \n",
       "3  JrIxlS1TzJ-iCu79ul40cQ  eUta8W_HdHMXPzLBBZhL1A  04UD14gamNjLY0IDYVhHJg   \n",
       "4  _ZeMknuYdlQcUqng_Im3yg  yfFzsLmaWF2d4Sr0UNbBgg  LHSTtnW3YHCeUkRDGyJOyw   \n",
       "\n",
       "   stars  useful  funny  cool  \\\n",
       "0      3       0      0     0   \n",
       "1      5       1      0     1   \n",
       "2      5       1      0     1   \n",
       "3      1       1      2     1   \n",
       "4      5       2      0     0   \n",
       "\n",
       "                                                text                 date  \n",
       "0  If you decide to eat here, just be aware it is...  2018-07-07 22:09:11  \n",
       "1  I've taken a lot of spin classes over the year...  2012-01-03 15:28:18  \n",
       "2  Wow!  Yummy, different,  delicious.   Our favo...  2015-01-04 00:01:03  \n",
       "3  I am a long term frequent customer of this est...  2015-09-23 23:10:31  \n",
       "4  Amazingly amazing wings and homemade bleu chee...  2015-08-07 02:29:16  "
      ]
     },
     "execution_count": 7,
     "metadata": {},
     "output_type": "execute_result"
    }
   ],
   "source": [
    "data_path = 'filtered_reviews_PA.csv'\n",
    "df = pd.read_csv(data_path)\n",
    "print(df.shape)\n",
    "df.head()"
   ]
  },
  {
   "cell_type": "markdown",
   "metadata": {},
   "source": [
    "### Normalize Features & Drop Columns"
   ]
  },
  {
   "cell_type": "code",
   "execution_count": 8,
   "metadata": {},
   "outputs": [],
   "source": [
    "df = df.drop(columns=['review_id', 'user_id', 'business_id', 'stars', 'date'])"
   ]
  },
  {
   "cell_type": "code",
   "execution_count": 30,
   "metadata": {},
   "outputs": [],
   "source": [
    "sample_frac = 0.04"
   ]
  },
  {
   "cell_type": "code",
   "execution_count": 31,
   "metadata": {},
   "outputs": [],
   "source": [
    "df['useful'] = (df['useful'] > 0).astype(int)\n",
    "df['funny'] = (df['funny'] > 0).astype(int)\n",
    "df['cool'] = (df['cool'] > 0).astype(int)\n",
    "\n",
    "useful_df = df[['useful', 'text']]\n",
    "funny_df = df[['funny', 'text']]\n",
    "cool_df = df[['cool', 'text']]\n",
    "\n",
    "useful_df = useful_df.sample(frac=sample_frac, random_state=42)\n",
    "funny_df = funny_df.sample(frac=sample_frac, random_state=42)\n",
    "cool_df = cool_df.sample(frac=sample_frac, random_state=42)\n",
    "\n",
    "# df.head(30)"
   ]
  },
  {
   "cell_type": "code",
   "execution_count": 10,
   "metadata": {},
   "outputs": [
    {
     "name": "stderr",
     "output_type": "stream",
     "text": [
      "100%|██████████| 63958/63958 [03:18<00:00, 321.80it/s]\n",
      "100%|██████████| 63958/63958 [03:13<00:00, 331.03it/s]\n",
      "100%|██████████| 63958/63958 [03:14<00:00, 329.48it/s]\n"
     ]
    }
   ],
   "source": [
    "tagged_funny_df = funny_df.sample(frac=0.04, random_state=42)\n",
    "tagged_cool_df = cool_df.sample(frac=0.04, random_state=42)\n",
    "tagged_useful_df = useful_df.sample(frac=0.04, random_state=42)\n",
    "\n",
    "# Apply POS tagging to the text columns in each tagged dataframe\n",
    "tagged_funny_df['text'] = tagged_funny_df['text'].progress_apply(lambda x: nltk.pos_tag(nltk.word_tokenize(x)))\n",
    "tagged_cool_df['text'] = tagged_cool_df['text'].progress_apply(lambda x: nltk.pos_tag(nltk.word_tokenize(x)))\n",
    "tagged_useful_df['text'] = tagged_useful_df['text'].progress_apply(lambda x: nltk.pos_tag(nltk.word_tokenize(x)))"
   ]
  },
  {
   "cell_type": "code",
   "execution_count": 32,
   "metadata": {},
   "outputs": [],
   "source": [
    "test_df_useful, train_df_useful = train_test_split(useful_df, test_size=0.2, random_state=42)\n",
    "test_df_funny, train_df_funny = train_test_split(funny_df, test_size=0.2, random_state=42)\n",
    "test_df_cool, train_df_cool = train_test_split(cool_df, test_size=0.2, random_state=42)"
   ]
  },
  {
   "cell_type": "code",
   "execution_count": 11,
   "metadata": {},
   "outputs": [],
   "source": [
    "test_df_tagged_funny, train_df_tagged_funny = train_test_split(tagged_funny_df, test_size=0.2, random_state=42)\n",
    "test_df_tagged_cool, train_df_tagged_cool = train_test_split(tagged_cool_df, test_size=0.2, random_state=42)\n",
    "test_df_tagged_useful, train_df_tagged_useful = train_test_split(tagged_useful_df, test_size=0.2, random_state=42)"
   ]
  },
  {
   "cell_type": "code",
   "execution_count": 33,
   "metadata": {},
   "outputs": [],
   "source": [
    "# Process useful labels\n",
    "train_text_useful = train_df_useful['text'].values.tolist()\n",
    "train_labels_useful = train_df_useful['useful'].values.tolist()\n",
    "\n",
    "test_text_useful = test_df_useful['text'].values.tolist()\n",
    "test_labels_useful = test_df_useful['useful'].values.tolist()\n",
    "\n",
    "# Process funny labels\n",
    "train_text_funny = train_df_funny['text'].values.tolist()\n",
    "train_labels_funny = train_df_funny['funny'].values.tolist()\n",
    "\n",
    "test_text_funny = test_df_funny['text'].values.tolist()\n",
    "test_labels_funny = test_df_funny['funny'].values.tolist()\n",
    "\n",
    "# Process cool labels\n",
    "train_text_cool = train_df_cool['text'].values.tolist()\n",
    "train_labels_cool = train_df_cool['cool'].values.tolist()\n",
    "\n",
    "test_text_cool = test_df_cool['text'].values.tolist()\n",
    "test_labels_cool = test_df_cool['cool'].values.tolist()"
   ]
  },
  {
   "cell_type": "code",
   "execution_count": 12,
   "metadata": {},
   "outputs": [],
   "source": [
    "# Process tagged useful labels\n",
    "train_text_tagged_useful = train_df_tagged_useful['text'].values.tolist()\n",
    "train_labels_tagged_useful = train_df_tagged_useful['useful'].values.tolist()\n",
    "\n",
    "test_text_tagged_useful = test_df_tagged_useful['text'].values.tolist()\n",
    "test_labels_tagged_useful = test_df_tagged_useful['useful'].values.tolist()\n",
    "\n",
    "# Process tagged funny labels\n",
    "train_text_tagged_funny = train_df_tagged_funny['text'].values.tolist()\n",
    "train_labels_tagged_funny = train_df_tagged_funny['funny'].values.tolist()\n",
    "\n",
    "test_text_tagged_funny = test_df_tagged_funny['text'].values.tolist()\n",
    "test_labels_tagged_funny = test_df_tagged_funny['funny'].values.tolist()\n",
    "\n",
    "# Process tagged cool labels\n",
    "train_text_tagged_cool = train_df_tagged_cool['text'].values.tolist()\n",
    "train_labels_tagged_cool = train_df_tagged_cool['cool'].values.tolist()\n",
    "\n",
    "test_text_tagged_cool = test_df_tagged_cool['text'].values.tolist()\n",
    "test_labels_tagged_cool = test_df_tagged_cool['cool'].values.tolist()"
   ]
  },
  {
   "cell_type": "code",
   "execution_count": 34,
   "metadata": {},
   "outputs": [],
   "source": [
    "tokenizer = AutoTokenizer.from_pretrained('distilbert-base-uncased', do_lower_case=True)\n",
    "\n",
    "# Convert train_text_tagged_useful to a list of strings if it's not already\n",
    "if isinstance(train_text_useful[0], tuple):\n",
    "    train_text_useful = [' '.join([str(t) for t in text]) for text in train_text_useful]\n",
    "    test_text_useful = [' '.join([str(t) for t in text]) for text in test_text_useful]\n",
    "elif isinstance(train_text_useful[0], list):\n",
    "    train_text_useful = [' '.join([str(t) for t in text]) for text in train_text_useful]\n",
    "    test_text_useful = [' '.join([str(t) for t in text]) for text in test_text_useful]\n",
    "\n",
    "train_encodings = tokenizer(train_text_useful, truncation=True, padding=\"max_length\", max_length=512)\n",
    "eval_encodings = tokenizer(test_text_useful, truncation=True, padding=\"max_length\", max_length=512)"
   ]
  },
  {
   "cell_type": "code",
   "execution_count": 13,
   "metadata": {},
   "outputs": [],
   "source": [
    "tokenizer = AutoTokenizer.from_pretrained('distilbert-base-uncased', do_lower_case=True)\n",
    "\n",
    "# Convert train_text_tagged_useful to a list of strings if it's not already\n",
    "if isinstance(train_text_tagged_useful[0], tuple):\n",
    "    train_text_tagged_useful = [' '.join([str(t) for t in text]) for text in train_text_tagged_useful]\n",
    "    test_text_tagged_useful = [' '.join([str(t) for t in text]) for text in test_text_tagged_useful]\n",
    "elif isinstance(train_text_tagged_useful[0], list):\n",
    "    train_text_tagged_useful = [' '.join([str(t) for t in text]) for text in train_text_tagged_useful]\n",
    "    test_text_tagged_useful = [' '.join([str(t) for t in text]) for text in test_text_tagged_useful]\n",
    "\n",
    "# Convert train_text_tagged_funny to a list of strings if it's not already\n",
    "# if isinstance(train_text_tagged_funny[0], tuple):\n",
    "#     train_text_tagged_funny = [' '.join([str(t) for t in text]) for text in train_text_tagged_funny]\n",
    "#     test_text_tagged_funny = [' '.join([str(t) for t in text]) for text in test_text_tagged_funny]\n",
    "# elif isinstance(train_text_tagged_funny[0], list):\n",
    "#     train_text_tagged_funny = [' '.join([str(t) for t in text]) for text in train_text_tagged_funny]\n",
    "#     test_text_tagged_funny = [' '.join([str(t) for t in text]) for text in test_text_tagged_funny]\n",
    "\n",
    "# # Convert train_text_tagged_cool to a list of strings if it's not already\n",
    "# if isinstance(train_text_tagged_cool[0], tuple):\n",
    "#     train_text_tagged_cool = [' '.join([str(t) for t in text]) for text in train_text_tagged_cool]\n",
    "#     test_text_tagged_cool = [' '.join([str(t) for t in text]) for text in test_text_tagged_cool]\n",
    "# elif isinstance(train_text_tagged_cool[0], list):\n",
    "#     train_text_tagged_cool = [' '.join([str(t) for t in text]) for text in train_text_tagged_cool]\n",
    "#     test_text_tagged_cool = [' '.join([str(t) for t in text]) for text in test_text_tagged_cool]\n",
    "\n",
    "# Ensure all elements are strings\n",
    "train_text_tagged_useful = [str(text) for text in train_text_tagged_useful]\n",
    "test_text_tagged_useful = [str(text) for text in test_text_tagged_useful]\n",
    "# train_text_tagged_funny = [str(text) for text in train_text_tagged_funny]\n",
    "# test_text_tagged_funny = [str(text) for text in test_text_tagged_funny]\n",
    "# train_text_tagged_cool = [str(text) for text in train_text_tagged_cool]\n",
    "# test_text_tagged_cool = [str(text) for text in test_text_tagged_cool]\n",
    "\n",
    "# Create encodings for all tagged datasets\n",
    "tagged_train_encodings_useful = tokenizer(train_text_tagged_useful, truncation=True, padding=\"max_length\", max_length=512)\n",
    "tagged_eval_encodings_useful = tokenizer(test_text_tagged_useful, truncation=True, padding=\"max_length\", max_length=512)\n",
    "\n",
    "tagged_train_encodings_funny = tagged_train_encodings_useful\n",
    "tagged_eval_encodings_funny = tagged_eval_encodings_useful\n",
    "\n",
    "tagged_train_encodings_cool = tagged_train_encodings_useful\n",
    "tagged_eval_encodings_cool = tagged_eval_encodings_useful\n",
    "\n",
    "# tagged_train_encodings_funny = tokenizer(train_text_tagged_funny, truncation=True, padding=\"max_length\", max_length=512)\n",
    "# tagged_eval_encodings_funny = tokenizer(test_text_tagged_funny, truncation=True, padding=\"max_length\", max_length=512)\n",
    "\n",
    "# tagged_train_encodings_cool = tokenizer(train_text_tagged_cool, truncation=True, padding=\"max_length\", max_length=512)\n",
    "# tagged_eval_encodings_cool = tokenizer(test_text_tagged_cool, truncation=True, padding=\"max_length\", max_length=512)"
   ]
  },
  {
   "cell_type": "code",
   "execution_count": 14,
   "metadata": {},
   "outputs": [],
   "source": [
    "class ReviewDataset(Dataset):\n",
    "    def __init__(self, encodings, labels):\n",
    "        self.encodings = encodings\n",
    "        self.labels = labels  # Convert to list to avoid DataFrame issues\n",
    "\n",
    "    def __getitem__(self, idx):\n",
    "        item = {key: torch.tensor(val[idx]) for key, val in self.encodings.items()}\n",
    "        item['labels'] = torch.tensor(self.labels[idx], dtype=torch.long)  # Changed to long tensor for single label\n",
    "        return item\n",
    "\n",
    "    def __len__(self):\n",
    "        return len(self.labels)"
   ]
  },
  {
   "cell_type": "code",
   "execution_count": 15,
   "metadata": {},
   "outputs": [],
   "source": [
    "from sklearn.metrics import accuracy_score, f1_score, precision_score, recall_score\n",
    "import numpy as np\n",
    "\n",
    "def compute_metrics(p):\n",
    "    predictions, labels = p.predictions, p.label_ids\n",
    "    predictions = np.argmax(predictions, axis=1)\n",
    "    \n",
    "    accuracy = accuracy_score(labels, predictions)\n",
    "    f1 = f1_score(labels, predictions, average='binary')\n",
    "    precision = precision_score(labels, predictions, average='binary')\n",
    "    recall = recall_score(labels, predictions, average='binary')\n",
    "    \n",
    "    return {\n",
    "        'accuracy': accuracy,\n",
    "        'f1': f1,\n",
    "        'precision': precision,\n",
    "        'recall': recall\n",
    "    }"
   ]
  },
  {
   "cell_type": "code",
   "execution_count": 35,
   "metadata": {},
   "outputs": [],
   "source": [
    "train_dataset_funny = ReviewDataset(train_encodings, train_labels_funny)\n",
    "eval_dataset_funny = ReviewDataset(eval_encodings, test_labels_funny)\n",
    "\n",
    "train_dataset_cool = ReviewDataset(train_encodings, train_labels_cool)\n",
    "eval_dataset_cool = ReviewDataset(eval_encodings, test_labels_cool)\n",
    "\n",
    "train_dataset_useful = ReviewDataset(train_encodings, train_labels_useful)\n",
    "eval_dataset_useful = ReviewDataset(eval_encodings, test_labels_useful)"
   ]
  },
  {
   "cell_type": "code",
   "execution_count": 16,
   "metadata": {},
   "outputs": [],
   "source": [
    "# Create datasets with tagged data for useful, cool, and funny reviews\n",
    "train_dataset_useful_tagged = ReviewDataset(tagged_train_encodings_useful, train_labels_tagged_useful)\n",
    "eval_dataset_useful_tagged = ReviewDataset(tagged_eval_encodings_useful, test_labels_tagged_useful)\n",
    "\n",
    "train_dataset_cool_tagged = ReviewDataset(tagged_train_encodings_cool, train_labels_tagged_cool)\n",
    "eval_dataset_cool_tagged = ReviewDataset(tagged_eval_encodings_cool, test_labels_tagged_cool)\n",
    "\n",
    "train_dataset_funny_tagged = ReviewDataset(tagged_train_encodings_funny, train_labels_tagged_funny)\n",
    "eval_dataset_funny_tagged = ReviewDataset(tagged_eval_encodings_funny, test_labels_tagged_funny)"
   ]
  },
  {
   "cell_type": "code",
   "execution_count": 18,
   "metadata": {},
   "outputs": [
    {
     "name": "stderr",
     "output_type": "stream",
     "text": [
      "Some weights of DistilBertForSequenceClassification were not initialized from the model checkpoint at distilbert-base-uncased and are newly initialized: ['classifier.bias', 'classifier.weight', 'pre_classifier.bias', 'pre_classifier.weight']\n",
      "You should probably TRAIN this model on a down-stream task to be able to use it for predictions and inference.\n",
      "Some weights of DistilBertForSequenceClassification were not initialized from the model checkpoint at distilbert-base-uncased and are newly initialized: ['classifier.bias', 'classifier.weight', 'pre_classifier.bias', 'pre_classifier.weight']\n",
      "You should probably TRAIN this model on a down-stream task to be able to use it for predictions and inference.\n",
      "Some weights of DistilBertForSequenceClassification were not initialized from the model checkpoint at distilbert-base-uncased and are newly initialized: ['classifier.bias', 'classifier.weight', 'pre_classifier.bias', 'pre_classifier.weight']\n",
      "You should probably TRAIN this model on a down-stream task to be able to use it for predictions and inference.\n",
      "Some weights of DistilBertForSequenceClassification were not initialized from the model checkpoint at distilbert-base-uncased and are newly initialized: ['classifier.bias', 'classifier.weight', 'pre_classifier.bias', 'pre_classifier.weight']\n",
      "You should probably TRAIN this model on a down-stream task to be able to use it for predictions and inference.\n",
      "Some weights of DistilBertForSequenceClassification were not initialized from the model checkpoint at distilbert-base-uncased and are newly initialized: ['classifier.bias', 'classifier.weight', 'pre_classifier.bias', 'pre_classifier.weight']\n",
      "You should probably TRAIN this model on a down-stream task to be able to use it for predictions and inference.\n",
      "Some weights of DistilBertForSequenceClassification were not initialized from the model checkpoint at distilbert-base-uncased and are newly initialized: ['classifier.bias', 'classifier.weight', 'pre_classifier.bias', 'pre_classifier.weight']\n",
      "You should probably TRAIN this model on a down-stream task to be able to use it for predictions and inference.\n"
     ]
    }
   ],
   "source": [
    "cool_bert = AutoModelForSequenceClassification.from_pretrained('distilbert-base-uncased')\n",
    "funny_bert = AutoModelForSequenceClassification.from_pretrained('distilbert-base-uncased')\n",
    "useful_bert = AutoModelForSequenceClassification.from_pretrained('distilbert-base-uncased')\n",
    "tagged_funny_bert = AutoModelForSequenceClassification.from_pretrained('distilbert-base-uncased')\n",
    "tagged_cool_bert = AutoModelForSequenceClassification.from_pretrained('distilbert-base-uncased')\n",
    "tagged_useful_bert = AutoModelForSequenceClassification.from_pretrained('distilbert-base-uncased')\n",
    "\n",
    "\n",
    "# Create an instance of TrainingArguments to configure the training process\n",
    "training_args = TrainingArguments(\n",
    "    output_dir='./results',  # Directory where the model predictions and checkpoints will be saved\n",
    "    num_train_epochs=5,  # Number of times the model will be trained on the entire training dataset\n",
    "    per_device_train_batch_size=16,  # Batch size for training on each device (GPU/CPU)\n",
    "    per_device_eval_batch_size=16,  # Batch size for evaluation on each device\n",
    "    warmup_steps=500,  # Number of steps for the learning rate warmup\n",
    "    weight_decay=0.01,  # Weight decay to apply (if any) for regularization\n",
    "    logging_dir='./logs',  # Directory for storing logs\n",
    "    logging_steps=5000,  # Log training metrics every 5000 steps\n",
    "    eval_strategy=\"epoch\",  # Evaluation strategy to adopt during training (evaluate at the end of each epoch)\n",
    "    save_strategy=\"epoch\",  # Save strategy to adopt during training (save at the end of each epoch)\n",
    "    load_best_model_at_end=True,  # Load the best model when finished training (based on evaluation metrics)\n",
    "    gradient_accumulation_steps=2,  # Number of updates steps to accumulate before performing a backward/update pass\n",
    "    fp16=True  # Enable mixed precision training\n",
    ")\n",
    "\n",
    "# funny_trainer = Trainer(\n",
    "#     model=funny_bert,\n",
    "#     args=training_args,\n",
    "#     train_dataset=train_dataset_funny,\n",
    "#     eval_dataset=eval_dataset_funny,\n",
    "#     compute_metrics=compute_metrics\n",
    "# )\n",
    "\n",
    "# cool_trainer = Trainer(\n",
    "#     model=cool_bert,\n",
    "#     args=training_args,\n",
    "#     train_dataset=train_dataset_cool,\n",
    "#     eval_dataset=eval_dataset_cool,\n",
    "#     compute_metrics=compute_metrics\n",
    "# )\n",
    "\n",
    "# useful_trainer = Trainer(\n",
    "#     model=useful_bert,\n",
    "#     args=training_args,\n",
    "#     train_dataset=train_dataset_useful,\n",
    "#     eval_dataset=eval_dataset_useful,\n",
    "#     compute_metrics=compute_metrics\n",
    "# )\n",
    "\n",
    "tagged_cool_trainer = Trainer(\n",
    "    model=tagged_cool_bert,\n",
    "    args=training_args,\n",
    "    train_dataset=train_dataset_cool_tagged,\n",
    "    eval_dataset=eval_dataset_cool_tagged,\n",
    "    compute_metrics=compute_metrics\n",
    ")\n",
    "\n",
    "tagged_funny_trainer = Trainer(\n",
    "    model=tagged_funny_bert,\n",
    "    args=training_args,\n",
    "    train_dataset=train_dataset_funny_tagged,\n",
    "    eval_dataset=eval_dataset_funny_tagged,\n",
    "    compute_metrics=compute_metrics\n",
    ")\n",
    "\n",
    "tagged_useful_trainer = Trainer(\n",
    "    model=tagged_useful_bert,\n",
    "    args=training_args,\n",
    "    train_dataset=train_dataset_useful_tagged,\n",
    "    eval_dataset=eval_dataset_useful_tagged,\n",
    "    compute_metrics=compute_metrics\n",
    ")"
   ]
  },
  {
   "cell_type": "code",
   "execution_count": 19,
   "metadata": {},
   "outputs": [],
   "source": [
    "def evaluate_model(trainer, eval_dataset, title=\"Model Evaluation\"):\n",
    "    eval_preds = trainer.predict(eval_dataset)\n",
    "    predictions = np.argmax(eval_preds.predictions, axis=1)\n",
    "    labels = eval_preds.label_ids\n",
    "\n",
    "    \n",
    "    import seaborn as sns\n",
    "    import matplotlib.pyplot as plt\n",
    "\n",
    "    cm = confusion_matrix(labels, predictions)\n",
    "    plt.figure(figsize=(8, 6))\n",
    "    sns.heatmap(cm, annot=True, fmt='d', cmap='Blues')\n",
    "    plt.title(f'Confusion Matrix - {title}')\n",
    "    plt.ylabel('True Label')\n",
    "    plt.xlabel('Predicted Label')\n",
    "    plt.show()\n",
    "\n",
    "    print(classification_report(labels, predictions))"
   ]
  },
  {
   "cell_type": "markdown",
   "metadata": {},
   "source": [
    "## Other"
   ]
  },
  {
   "cell_type": "code",
   "execution_count": 20,
   "metadata": {},
   "outputs": [
    {
     "data": {
      "text/html": [
       "\n",
       "    <div>\n",
       "      \n",
       "      <progress value='4995' max='4995' style='width:300px; height:20px; vertical-align: middle;'></progress>\n",
       "      [4995/4995 33:00, Epoch 4/5]\n",
       "    </div>\n",
       "    <table border=\"1\" class=\"dataframe\">\n",
       "  <thead>\n",
       " <tr style=\"text-align: left;\">\n",
       "      <th>Epoch</th>\n",
       "      <th>Training Loss</th>\n",
       "      <th>Validation Loss</th>\n",
       "      <th>Accuracy</th>\n",
       "      <th>F1</th>\n",
       "      <th>Precision</th>\n",
       "      <th>Recall</th>\n",
       "    </tr>\n",
       "  </thead>\n",
       "  <tbody>\n",
       "    <tr>\n",
       "      <td>1</td>\n",
       "      <td>No log</td>\n",
       "      <td>0.439237</td>\n",
       "      <td>0.826519</td>\n",
       "      <td>0.000000</td>\n",
       "      <td>0.000000</td>\n",
       "      <td>0.000000</td>\n",
       "    </tr>\n",
       "    <tr>\n",
       "      <td>2</td>\n",
       "      <td>No log</td>\n",
       "      <td>0.442418</td>\n",
       "      <td>0.812267</td>\n",
       "      <td>0.223853</td>\n",
       "      <td>0.395817</td>\n",
       "      <td>0.156054</td>\n",
       "    </tr>\n",
       "    <tr>\n",
       "      <td>3</td>\n",
       "      <td>No log</td>\n",
       "      <td>0.475312</td>\n",
       "      <td>0.799861</td>\n",
       "      <td>0.232699</td>\n",
       "      <td>0.347414</td>\n",
       "      <td>0.174936</td>\n",
       "    </tr>\n",
       "    <tr>\n",
       "      <td>4</td>\n",
       "      <td>No log</td>\n",
       "      <td>0.677546</td>\n",
       "      <td>0.780700</td>\n",
       "      <td>0.241879</td>\n",
       "      <td>0.302140</td>\n",
       "      <td>0.201658</td>\n",
       "    </tr>\n",
       "  </tbody>\n",
       "</table><p>"
      ],
      "text/plain": [
       "<IPython.core.display.HTML object>"
      ]
     },
     "metadata": {},
     "output_type": "display_data"
    },
    {
     "name": "stderr",
     "output_type": "stream",
     "text": [
      "c:\\git\\wpi\\nlp\\venv\\Lib\\site-packages\\sklearn\\metrics\\_classification.py:1565: UndefinedMetricWarning: Precision is ill-defined and being set to 0.0 due to no predicted samples. Use `zero_division` parameter to control this behavior.\n",
      "  _warn_prf(average, modifier, f\"{metric.capitalize()} is\", len(result))\n"
     ]
    },
    {
     "data": {
      "text/plain": [
       "TrainOutput(global_step=4995, training_loss=0.34315807506725476, metrics={'train_runtime': 1986.4601, 'train_samples_per_second': 80.495, 'train_steps_per_second': 2.515, 'total_flos': 2.116299160928256e+16, 'train_loss': 0.34315807506725476, 'epoch': 4.995497748874437})"
      ]
     },
     "execution_count": 20,
     "metadata": {},
     "output_type": "execute_result"
    }
   ],
   "source": [
    "funny_trainer.train()"
   ]
  },
  {
   "cell_type": "code",
   "execution_count": 21,
   "metadata": {},
   "outputs": [
    {
     "data": {
      "text/html": [
       "\n",
       "    <div>\n",
       "      \n",
       "      <progress value='4995' max='4995' style='width:300px; height:20px; vertical-align: middle;'></progress>\n",
       "      [4995/4995 33:03, Epoch 4/5]\n",
       "    </div>\n",
       "    <table border=\"1\" class=\"dataframe\">\n",
       "  <thead>\n",
       " <tr style=\"text-align: left;\">\n",
       "      <th>Epoch</th>\n",
       "      <th>Training Loss</th>\n",
       "      <th>Validation Loss</th>\n",
       "      <th>Accuracy</th>\n",
       "      <th>F1</th>\n",
       "      <th>Precision</th>\n",
       "      <th>Recall</th>\n",
       "    </tr>\n",
       "  </thead>\n",
       "  <tbody>\n",
       "    <tr>\n",
       "      <td>1</td>\n",
       "      <td>No log</td>\n",
       "      <td>0.524589</td>\n",
       "      <td>0.773867</td>\n",
       "      <td>0.000000</td>\n",
       "      <td>0.000000</td>\n",
       "      <td>0.000000</td>\n",
       "    </tr>\n",
       "    <tr>\n",
       "      <td>2</td>\n",
       "      <td>No log</td>\n",
       "      <td>0.505347</td>\n",
       "      <td>0.773875</td>\n",
       "      <td>0.000277</td>\n",
       "      <td>0.571429</td>\n",
       "      <td>0.000138</td>\n",
       "    </tr>\n",
       "    <tr>\n",
       "      <td>3</td>\n",
       "      <td>No log</td>\n",
       "      <td>0.526098</td>\n",
       "      <td>0.765995</td>\n",
       "      <td>0.187993</td>\n",
       "      <td>0.436563</td>\n",
       "      <td>0.119788</td>\n",
       "    </tr>\n",
       "    <tr>\n",
       "      <td>4</td>\n",
       "      <td>No log</td>\n",
       "      <td>0.682247</td>\n",
       "      <td>0.726680</td>\n",
       "      <td>0.288783</td>\n",
       "      <td>0.350830</td>\n",
       "      <td>0.245385</td>\n",
       "    </tr>\n",
       "  </tbody>\n",
       "</table><p>"
      ],
      "text/plain": [
       "<IPython.core.display.HTML object>"
      ]
     },
     "metadata": {},
     "output_type": "display_data"
    },
    {
     "name": "stderr",
     "output_type": "stream",
     "text": [
      "c:\\git\\wpi\\nlp\\venv\\Lib\\site-packages\\sklearn\\metrics\\_classification.py:1565: UndefinedMetricWarning: Precision is ill-defined and being set to 0.0 due to no predicted samples. Use `zero_division` parameter to control this behavior.\n",
      "  _warn_prf(average, modifier, f\"{metric.capitalize()} is\", len(result))\n"
     ]
    },
    {
     "data": {
      "text/plain": [
       "TrainOutput(global_step=4995, training_loss=0.448486181493994, metrics={'train_runtime': 1984.0255, 'train_samples_per_second': 80.594, 'train_steps_per_second': 2.518, 'total_flos': 2.116299160928256e+16, 'train_loss': 0.448486181493994, 'epoch': 4.995497748874437})"
      ]
     },
     "execution_count": 21,
     "metadata": {},
     "output_type": "execute_result"
    }
   ],
   "source": [
    "cool_trainer.train()"
   ]
  },
  {
   "cell_type": "code",
   "execution_count": 22,
   "metadata": {},
   "outputs": [
    {
     "data": {
      "text/html": [
       "\n",
       "    <div>\n",
       "      \n",
       "      <progress value='4995' max='4995' style='width:300px; height:20px; vertical-align: middle;'></progress>\n",
       "      [4995/4995 33:07, Epoch 4/5]\n",
       "    </div>\n",
       "    <table border=\"1\" class=\"dataframe\">\n",
       "  <thead>\n",
       " <tr style=\"text-align: left;\">\n",
       "      <th>Epoch</th>\n",
       "      <th>Training Loss</th>\n",
       "      <th>Validation Loss</th>\n",
       "      <th>Accuracy</th>\n",
       "      <th>F1</th>\n",
       "      <th>Precision</th>\n",
       "      <th>Recall</th>\n",
       "    </tr>\n",
       "  </thead>\n",
       "  <tbody>\n",
       "    <tr>\n",
       "      <td>1</td>\n",
       "      <td>No log</td>\n",
       "      <td>0.669357</td>\n",
       "      <td>0.577926</td>\n",
       "      <td>0.654437</td>\n",
       "      <td>0.538085</td>\n",
       "      <td>0.834991</td>\n",
       "    </tr>\n",
       "    <tr>\n",
       "      <td>2</td>\n",
       "      <td>No log</td>\n",
       "      <td>0.664140</td>\n",
       "      <td>0.597118</td>\n",
       "      <td>0.516398</td>\n",
       "      <td>0.606886</td>\n",
       "      <td>0.449393</td>\n",
       "    </tr>\n",
       "    <tr>\n",
       "      <td>3</td>\n",
       "      <td>No log</td>\n",
       "      <td>0.665266</td>\n",
       "      <td>0.594625</td>\n",
       "      <td>0.507868</td>\n",
       "      <td>0.606176</td>\n",
       "      <td>0.436997</td>\n",
       "    </tr>\n",
       "    <tr>\n",
       "      <td>4</td>\n",
       "      <td>No log</td>\n",
       "      <td>0.753480</td>\n",
       "      <td>0.583922</td>\n",
       "      <td>0.554332</td>\n",
       "      <td>0.568768</td>\n",
       "      <td>0.540611</td>\n",
       "    </tr>\n",
       "  </tbody>\n",
       "</table><p>"
      ],
      "text/plain": [
       "<IPython.core.display.HTML object>"
      ]
     },
     "metadata": {},
     "output_type": "display_data"
    },
    {
     "data": {
      "text/plain": [
       "TrainOutput(global_step=4995, training_loss=0.6334070887293544, metrics={'train_runtime': 1987.4853, 'train_samples_per_second': 80.453, 'train_steps_per_second': 2.513, 'total_flos': 2.116299160928256e+16, 'train_loss': 0.6334070887293544, 'epoch': 4.995497748874437})"
      ]
     },
     "execution_count": 22,
     "metadata": {},
     "output_type": "execute_result"
    }
   ],
   "source": [
    "useful_trainer.train()"
   ]
  },
  {
   "cell_type": "code",
   "execution_count": 23,
   "metadata": {},
   "outputs": [
    {
     "data": {
      "text/html": [],
      "text/plain": [
       "<IPython.core.display.HTML object>"
      ]
     },
     "metadata": {},
     "output_type": "display_data"
    },
    {
     "name": "stderr",
     "output_type": "stream",
     "text": [
      "c:\\git\\wpi\\nlp\\venv\\Lib\\site-packages\\sklearn\\metrics\\_classification.py:1565: UndefinedMetricWarning: Precision is ill-defined and being set to 0.0 due to no predicted samples. Use `zero_division` parameter to control this behavior.\n",
      "  _warn_prf(average, modifier, f\"{metric.capitalize()} is\", len(result))\n"
     ]
    },
    {
     "data": {
      "image/png": "[encoded data removed]",
      "text/plain": [
       "<Figure size 800x600 with 2 Axes>"
      ]
     },
     "metadata": {},
     "output_type": "display_data"
    },
    {
     "name": "stdout",
     "output_type": "stream",
     "text": [
      "              precision    recall  f1-score   support\n",
      "\n",
      "           0       0.83      1.00      0.91    105725\n",
      "           1       0.00      0.00      0.00     22191\n",
      "\n",
      "    accuracy                           0.83    127916\n",
      "   macro avg       0.41      0.50      0.45    127916\n",
      "weighted avg       0.68      0.83      0.75    127916\n",
      "\n"
     ]
    },
    {
     "name": "stderr",
     "output_type": "stream",
     "text": [
      "c:\\git\\wpi\\nlp\\venv\\Lib\\site-packages\\sklearn\\metrics\\_classification.py:1565: UndefinedMetricWarning: Precision is ill-defined and being set to 0.0 in labels with no predicted samples. Use `zero_division` parameter to control this behavior.\n",
      "  _warn_prf(average, modifier, f\"{metric.capitalize()} is\", len(result))\n",
      "c:\\git\\wpi\\nlp\\venv\\Lib\\site-packages\\sklearn\\metrics\\_classification.py:1565: UndefinedMetricWarning: Precision is ill-defined and being set to 0.0 in labels with no predicted samples. Use `zero_division` parameter to control this behavior.\n",
      "  _warn_prf(average, modifier, f\"{metric.capitalize()} is\", len(result))\n",
      "c:\\git\\wpi\\nlp\\venv\\Lib\\site-packages\\sklearn\\metrics\\_classification.py:1565: UndefinedMetricWarning: Precision is ill-defined and being set to 0.0 in labels with no predicted samples. Use `zero_division` parameter to control this behavior.\n",
      "  _warn_prf(average, modifier, f\"{metric.capitalize()} is\", len(result))\n"
     ]
    }
   ],
   "source": [
    "evaluate_model(funny_trainer, eval_dataset_funny)"
   ]
  },
  {
   "cell_type": "code",
   "execution_count": 24,
   "metadata": {},
   "outputs": [
    {
     "data": {
      "text/html": [],
      "text/plain": [
       "<IPython.core.display.HTML object>"
      ]
     },
     "metadata": {},
     "output_type": "display_data"
    },
    {
     "data": {
      "image/png": "[encoded data removed]",
      "text/plain": [
       "<Figure size 800x600 with 2 Axes>"
      ]
     },
     "metadata": {},
     "output_type": "display_data"
    },
    {
     "name": "stdout",
     "output_type": "stream",
     "text": [
      "              precision    recall  f1-score   support\n",
      "\n",
      "           0       0.59      0.73      0.65     66689\n",
      "           1       0.61      0.45      0.52     61227\n",
      "\n",
      "    accuracy                           0.60    127916\n",
      "   macro avg       0.60      0.59      0.59    127916\n",
      "weighted avg       0.60      0.60      0.59    127916\n",
      "\n"
     ]
    }
   ],
   "source": [
    "evaluate_model(useful_trainer, eval_dataset_useful)"
   ]
  },
  {
   "cell_type": "code",
   "execution_count": 25,
   "metadata": {},
   "outputs": [
    {
     "data": {
      "text/html": [],
      "text/plain": [
       "<IPython.core.display.HTML object>"
      ]
     },
     "metadata": {},
     "output_type": "display_data"
    },
    {
     "data": {
      "image/png": "[encoded data removed]",
      "text/plain": [
       "<Figure size 800x600 with 2 Axes>"
      ]
     },
     "metadata": {},
     "output_type": "display_data"
    },
    {
     "name": "stdout",
     "output_type": "stream",
     "text": [
      "              precision    recall  f1-score   support\n",
      "\n",
      "           0       0.77      1.00      0.87     98990\n",
      "           1       0.57      0.00      0.00     28926\n",
      "\n",
      "    accuracy                           0.77    127916\n",
      "   macro avg       0.67      0.50      0.44    127916\n",
      "weighted avg       0.73      0.77      0.68    127916\n",
      "\n"
     ]
    }
   ],
   "source": [
    "evaluate_model(cool_trainer, eval_dataset_cool)"
   ]
  },
  {
   "cell_type": "code",
   "execution_count": 26,
   "metadata": {},
   "outputs": [
    {
     "data": {
      "text/plain": [
       "('models/useful_model\\\\tokenizer_config.json',\n",
       " 'models/useful_model\\\\special_tokens_map.json',\n",
       " 'models/useful_model\\\\vocab.txt',\n",
       " 'models/useful_model\\\\added_tokens.json',\n",
       " 'models/useful_model\\\\tokenizer.json')"
      ]
     },
     "execution_count": 26,
     "metadata": {},
     "output_type": "execute_result"
    }
   ],
   "source": [
    "# Save the trained models\n",
    "funny_trainer.save_model(\"models/funny_model\")\n",
    "cool_trainer.save_model(\"models/cool_model\") \n",
    "useful_trainer.save_model(\"models/useful_model\")\n",
    "\n",
    "# Save the tokenizer as well\n",
    "tokenizer.save_pretrained(\"models/funny_model\")\n",
    "tokenizer.save_pretrained(\"models/cool_model\")\n",
    "tokenizer.save_pretrained(\"models/useful_model\")"
   ]
  },
  {
   "cell_type": "code",
   "execution_count": 27,
   "metadata": {},
   "outputs": [
    {
     "data": {
      "text/html": [
       "\n",
       "    <div>\n",
       "      \n",
       "      <progress value='7995' max='7995' style='width:300px; height:20px; vertical-align: middle;'></progress>\n",
       "      [7995/7995 03:25]\n",
       "    </div>\n",
       "    "
      ],
      "text/plain": [
       "<IPython.core.display.HTML object>"
      ]
     },
     "metadata": {},
     "output_type": "display_data"
    },
    {
     "name": "stderr",
     "output_type": "stream",
     "text": [
      "c:\\git\\wpi\\nlp\\venv\\Lib\\site-packages\\sklearn\\metrics\\_classification.py:1565: UndefinedMetricWarning: Precision is ill-defined and being set to 0.0 due to no predicted samples. Use `zero_division` parameter to control this behavior.\n",
      "  _warn_prf(average, modifier, f\"{metric.capitalize()} is\", len(result))\n"
     ]
    },
    {
     "data": {
      "text/html": [
       "\n",
       "    <div>\n",
       "      \n",
       "      <progress value='7995' max='7995' style='width:300px; height:20px; vertical-align: middle;'></progress>\n",
       "      [7995/7995 03:24]\n",
       "    </div>\n",
       "    "
      ],
      "text/plain": [
       "<IPython.core.display.HTML object>"
      ]
     },
     "metadata": {},
     "output_type": "display_data"
    },
    {
     "data": {
      "text/html": [
       "\n",
       "    <div>\n",
       "      \n",
       "      <progress value='7995' max='7995' style='width:300px; height:20px; vertical-align: middle;'></progress>\n",
       "      [7995/7995 03:26]\n",
       "    </div>\n",
       "    "
      ],
      "text/plain": [
       "<IPython.core.display.HTML object>"
      ]
     },
     "metadata": {},
     "output_type": "display_data"
    },
    {
     "name": "stdout",
     "output_type": "stream",
     "text": [
      "\n",
      "Funny Model Metrics:\n",
      "{'eval_loss': 0.43923723697662354, 'eval_accuracy': 0.8265189655711561, 'eval_f1': 0.0, 'eval_precision': 0.0, 'eval_recall': 0.0, 'eval_runtime': 205.2996, 'eval_samples_per_second': 623.07, 'eval_steps_per_second': 38.943, 'epoch': 4.995497748874437}\n",
      "\n",
      "Cool Model Metrics:\n",
      "{'eval_loss': 0.505347490310669, 'eval_accuracy': 0.7738750429969667, 'eval_f1': 0.0002765008813465593, 'eval_precision': 0.5714285714285714, 'eval_recall': 0.00013828389684021296, 'eval_runtime': 204.893, 'eval_samples_per_second': 624.306, 'eval_steps_per_second': 39.02, 'epoch': 4.995497748874437}\n",
      "\n",
      "Useful Model Metrics:\n",
      "{'eval_loss': 0.6641401648521423, 'eval_accuracy': 0.5971184214640858, 'eval_f1': 0.5163984422652841, 'eval_precision': 0.6068860558471922, 'eval_recall': 0.44939324154376337, 'eval_runtime': 206.3447, 'eval_samples_per_second': 619.914, 'eval_steps_per_second': 38.746, 'epoch': 4.995497748874437}\n"
     ]
    }
   ],
   "source": [
    "# Get evaluation metrics for each model\n",
    "funny_eval_metrics = funny_trainer.evaluate()\n",
    "cool_eval_metrics = cool_trainer.evaluate()\n",
    "useful_eval_metrics = useful_trainer.evaluate()\n",
    "\n",
    "# Print the metrics\n",
    "print(\"\\nFunny Model Metrics:\")\n",
    "print(funny_eval_metrics)\n",
    "\n",
    "print(\"\\nCool Model Metrics:\")\n",
    "print(cool_eval_metrics)\n",
    "\n",
    "print(\"\\nUseful Model Metrics:\")\n",
    "print(useful_eval_metrics)\n"
   ]
  },
  {
   "cell_type": "code",
   "execution_count": 20,
   "metadata": {},
   "outputs": [
    {
     "data": {
      "text/html": [
       "\n",
       "    <div>\n",
       "      \n",
       "      <progress value='2000' max='2000' style='width:300px; height:20px; vertical-align: middle;'></progress>\n",
       "      [2000/2000 13:09, Epoch 5/5]\n",
       "    </div>\n",
       "    <table border=\"1\" class=\"dataframe\">\n",
       "  <thead>\n",
       " <tr style=\"text-align: left;\">\n",
       "      <th>Epoch</th>\n",
       "      <th>Training Loss</th>\n",
       "      <th>Validation Loss</th>\n",
       "      <th>Accuracy</th>\n",
       "      <th>F1</th>\n",
       "      <th>Precision</th>\n",
       "      <th>Recall</th>\n",
       "    </tr>\n",
       "  </thead>\n",
       "  <tbody>\n",
       "    <tr>\n",
       "      <td>1</td>\n",
       "      <td>No log</td>\n",
       "      <td>0.520344</td>\n",
       "      <td>0.776355</td>\n",
       "      <td>0.000000</td>\n",
       "      <td>0.000000</td>\n",
       "      <td>0.000000</td>\n",
       "    </tr>\n",
       "    <tr>\n",
       "      <td>2</td>\n",
       "      <td>No log</td>\n",
       "      <td>0.512067</td>\n",
       "      <td>0.776297</td>\n",
       "      <td>0.000000</td>\n",
       "      <td>0.000000</td>\n",
       "      <td>0.000000</td>\n",
       "    </tr>\n",
       "    <tr>\n",
       "      <td>3</td>\n",
       "      <td>No log</td>\n",
       "      <td>0.513124</td>\n",
       "      <td>0.763847</td>\n",
       "      <td>0.243820</td>\n",
       "      <td>0.429453</td>\n",
       "      <td>0.170235</td>\n",
       "    </tr>\n",
       "    <tr>\n",
       "      <td>4</td>\n",
       "      <td>No log</td>\n",
       "      <td>0.580938</td>\n",
       "      <td>0.750107</td>\n",
       "      <td>0.240827</td>\n",
       "      <td>0.375625</td>\n",
       "      <td>0.177226</td>\n",
       "    </tr>\n",
       "    <tr>\n",
       "      <td>5</td>\n",
       "      <td>No log</td>\n",
       "      <td>0.676347</td>\n",
       "      <td>0.731306</td>\n",
       "      <td>0.279001</td>\n",
       "      <td>0.348852</td>\n",
       "      <td>0.232457</td>\n",
       "    </tr>\n",
       "  </tbody>\n",
       "</table><p>"
      ],
      "text/plain": [
       "<IPython.core.display.HTML object>"
      ]
     },
     "metadata": {},
     "output_type": "display_data"
    },
    {
     "name": "stderr",
     "output_type": "stream",
     "text": [
      "c:\\git\\wpi\\nlp\\venv\\Lib\\site-packages\\sklearn\\metrics\\_classification.py:1565: UndefinedMetricWarning: Precision is ill-defined and being set to 0.0 due to no predicted samples. Use `zero_division` parameter to control this behavior.\n",
      "  _warn_prf(average, modifier, f\"{metric.capitalize()} is\", len(result))\n"
     ]
    },
    {
     "data": {
      "text/plain": [
       "('models/tagged_cool_model\\\\tokenizer_config.json',\n",
       " 'models/tagged_cool_model\\\\special_tokens_map.json',\n",
       " 'models/tagged_cool_model\\\\vocab.txt',\n",
       " 'models/tagged_cool_model\\\\added_tokens.json',\n",
       " 'models/tagged_cool_model\\\\tokenizer.json')"
      ]
     },
     "execution_count": 20,
     "metadata": {},
     "output_type": "execute_result"
    }
   ],
   "source": [
    "tagged_cool_trainer.train()\n",
    "tagged_cool_trainer.save_model(\"models/tagged_cool_model\")\n",
    "tokenizer.save_pretrained(\"models/tagged_cool_model\")"
   ]
  },
  {
   "cell_type": "code",
   "execution_count": 21,
   "metadata": {},
   "outputs": [
    {
     "data": {
      "text/html": [],
      "text/plain": [
       "<IPython.core.display.HTML object>"
      ]
     },
     "metadata": {},
     "output_type": "display_data"
    },
    {
     "data": {
      "image/png": "[encoded data removed]",
      "text/plain": [
       "<Figure size 800x600 with 2 Axes>"
      ]
     },
     "metadata": {},
     "output_type": "display_data"
    },
    {
     "name": "stdout",
     "output_type": "stream",
     "text": [
      "              precision    recall  f1-score   support\n",
      "\n",
      "           0       0.78      1.00      0.87     39723\n",
      "           1       0.00      0.00      0.00     11443\n",
      "\n",
      "    accuracy                           0.78     51166\n",
      "   macro avg       0.39      0.50      0.44     51166\n",
      "weighted avg       0.60      0.78      0.68     51166\n",
      "\n"
     ]
    }
   ],
   "source": [
    "evaluate_model(tagged_cool_trainer, eval_dataset_cool_tagged)"
   ]
  },
  {
   "cell_type": "code",
   "execution_count": 22,
   "metadata": {},
   "outputs": [
    {
     "data": {
      "text/html": [
       "\n",
       "    <div>\n",
       "      \n",
       "      <progress value='2000' max='2000' style='width:300px; height:20px; vertical-align: middle;'></progress>\n",
       "      [2000/2000 13:07, Epoch 5/5]\n",
       "    </div>\n",
       "    <table border=\"1\" class=\"dataframe\">\n",
       "  <thead>\n",
       " <tr style=\"text-align: left;\">\n",
       "      <th>Epoch</th>\n",
       "      <th>Training Loss</th>\n",
       "      <th>Validation Loss</th>\n",
       "      <th>Accuracy</th>\n",
       "      <th>F1</th>\n",
       "      <th>Precision</th>\n",
       "      <th>Recall</th>\n",
       "    </tr>\n",
       "  </thead>\n",
       "  <tbody>\n",
       "    <tr>\n",
       "      <td>1</td>\n",
       "      <td>No log</td>\n",
       "      <td>0.455945</td>\n",
       "      <td>0.827034</td>\n",
       "      <td>0.000000</td>\n",
       "      <td>0.000000</td>\n",
       "      <td>0.000000</td>\n",
       "    </tr>\n",
       "    <tr>\n",
       "      <td>2</td>\n",
       "      <td>No log</td>\n",
       "      <td>0.437313</td>\n",
       "      <td>0.827034</td>\n",
       "      <td>0.000000</td>\n",
       "      <td>0.000000</td>\n",
       "      <td>0.000000</td>\n",
       "    </tr>\n",
       "    <tr>\n",
       "      <td>3</td>\n",
       "      <td>No log</td>\n",
       "      <td>0.451926</td>\n",
       "      <td>0.827014</td>\n",
       "      <td>0.000000</td>\n",
       "      <td>0.000000</td>\n",
       "      <td>0.000000</td>\n",
       "    </tr>\n",
       "    <tr>\n",
       "      <td>4</td>\n",
       "      <td>No log</td>\n",
       "      <td>0.487144</td>\n",
       "      <td>0.807958</td>\n",
       "      <td>0.205787</td>\n",
       "      <td>0.361442</td>\n",
       "      <td>0.143842</td>\n",
       "    </tr>\n",
       "    <tr>\n",
       "      <td>5</td>\n",
       "      <td>No log</td>\n",
       "      <td>0.567277</td>\n",
       "      <td>0.791483</td>\n",
       "      <td>0.243172</td>\n",
       "      <td>0.326663</td>\n",
       "      <td>0.193672</td>\n",
       "    </tr>\n",
       "  </tbody>\n",
       "</table><p>"
      ],
      "text/plain": [
       "<IPython.core.display.HTML object>"
      ]
     },
     "metadata": {},
     "output_type": "display_data"
    },
    {
     "name": "stderr",
     "output_type": "stream",
     "text": [
      "c:\\git\\wpi\\nlp\\venv\\Lib\\site-packages\\sklearn\\metrics\\_classification.py:1565: UndefinedMetricWarning: Precision is ill-defined and being set to 0.0 due to no predicted samples. Use `zero_division` parameter to control this behavior.\n",
      "  _warn_prf(average, modifier, f\"{metric.capitalize()} is\", len(result))\n",
      "c:\\git\\wpi\\nlp\\venv\\Lib\\site-packages\\sklearn\\metrics\\_classification.py:1565: UndefinedMetricWarning: Precision is ill-defined and being set to 0.0 due to no predicted samples. Use `zero_division` parameter to control this behavior.\n",
      "  _warn_prf(average, modifier, f\"{metric.capitalize()} is\", len(result))\n"
     ]
    },
    {
     "data": {
      "text/plain": [
       "('models/tagged_funny_model\\\\tokenizer_config.json',\n",
       " 'models/tagged_funny_model\\\\special_tokens_map.json',\n",
       " 'models/tagged_funny_model\\\\vocab.txt',\n",
       " 'models/tagged_funny_model\\\\added_tokens.json',\n",
       " 'models/tagged_funny_model\\\\tokenizer.json')"
      ]
     },
     "execution_count": 22,
     "metadata": {},
     "output_type": "execute_result"
    }
   ],
   "source": [
    "tagged_funny_trainer.train()\n",
    "tagged_funny_trainer.save_model(\"models/tagged_funny_model\")\n",
    "tokenizer.save_pretrained(\"models/tagged_funny_model\")"
   ]
  },
  {
   "cell_type": "code",
   "execution_count": 23,
   "metadata": {},
   "outputs": [
    {
     "data": {
      "text/html": [],
      "text/plain": [
       "<IPython.core.display.HTML object>"
      ]
     },
     "metadata": {},
     "output_type": "display_data"
    },
    {
     "name": "stderr",
     "output_type": "stream",
     "text": [
      "c:\\git\\wpi\\nlp\\venv\\Lib\\site-packages\\sklearn\\metrics\\_classification.py:1565: UndefinedMetricWarning: Precision is ill-defined and being set to 0.0 due to no predicted samples. Use `zero_division` parameter to control this behavior.\n",
      "  _warn_prf(average, modifier, f\"{metric.capitalize()} is\", len(result))\n"
     ]
    },
    {
     "data": {
      "image/png": "[encoded data removed]",
      "text/plain": [
       "<Figure size 800x600 with 2 Axes>"
      ]
     },
     "metadata": {},
     "output_type": "display_data"
    },
    {
     "name": "stdout",
     "output_type": "stream",
     "text": [
      "              precision    recall  f1-score   support\n",
      "\n",
      "           0       0.83      1.00      0.91     42316\n",
      "           1       0.00      0.00      0.00      8850\n",
      "\n",
      "    accuracy                           0.83     51166\n",
      "   macro avg       0.41      0.50      0.45     51166\n",
      "weighted avg       0.68      0.83      0.75     51166\n",
      "\n"
     ]
    },
    {
     "name": "stderr",
     "output_type": "stream",
     "text": [
      "c:\\git\\wpi\\nlp\\venv\\Lib\\site-packages\\sklearn\\metrics\\_classification.py:1565: UndefinedMetricWarning: Precision is ill-defined and being set to 0.0 in labels with no predicted samples. Use `zero_division` parameter to control this behavior.\n",
      "  _warn_prf(average, modifier, f\"{metric.capitalize()} is\", len(result))\n",
      "c:\\git\\wpi\\nlp\\venv\\Lib\\site-packages\\sklearn\\metrics\\_classification.py:1565: UndefinedMetricWarning: Precision is ill-defined and being set to 0.0 in labels with no predicted samples. Use `zero_division` parameter to control this behavior.\n",
      "  _warn_prf(average, modifier, f\"{metric.capitalize()} is\", len(result))\n",
      "c:\\git\\wpi\\nlp\\venv\\Lib\\site-packages\\sklearn\\metrics\\_classification.py:1565: UndefinedMetricWarning: Precision is ill-defined and being set to 0.0 in labels with no predicted samples. Use `zero_division` parameter to control this behavior.\n",
      "  _warn_prf(average, modifier, f\"{metric.capitalize()} is\", len(result))\n"
     ]
    }
   ],
   "source": [
    "evaluate_model(tagged_funny_trainer, eval_dataset_funny_tagged)\n"
   ]
  },
  {
   "cell_type": "code",
   "execution_count": 25,
   "metadata": {},
   "outputs": [
    {
     "data": {
      "text/html": [
       "\n",
       "    <div>\n",
       "      \n",
       "      <progress value='2000' max='2000' style='width:300px; height:20px; vertical-align: middle;'></progress>\n",
       "      [2000/2000 13:19, Epoch 5/5]\n",
       "    </div>\n",
       "    <table border=\"1\" class=\"dataframe\">\n",
       "  <thead>\n",
       " <tr style=\"text-align: left;\">\n",
       "      <th>Epoch</th>\n",
       "      <th>Training Loss</th>\n",
       "      <th>Validation Loss</th>\n",
       "      <th>Accuracy</th>\n",
       "      <th>F1</th>\n",
       "      <th>Precision</th>\n",
       "      <th>Recall</th>\n",
       "    </tr>\n",
       "  </thead>\n",
       "  <tbody>\n",
       "    <tr>\n",
       "      <td>1</td>\n",
       "      <td>No log</td>\n",
       "      <td>0.814399</td>\n",
       "      <td>0.570281</td>\n",
       "      <td>0.537320</td>\n",
       "      <td>0.555449</td>\n",
       "      <td>0.520337</td>\n",
       "    </tr>\n",
       "    <tr>\n",
       "      <td>2</td>\n",
       "      <td>No log</td>\n",
       "      <td>0.906855</td>\n",
       "      <td>0.564086</td>\n",
       "      <td>0.587116</td>\n",
       "      <td>0.537851</td>\n",
       "      <td>0.646316</td>\n",
       "    </tr>\n",
       "    <tr>\n",
       "      <td>3</td>\n",
       "      <td>No log</td>\n",
       "      <td>1.106314</td>\n",
       "      <td>0.562776</td>\n",
       "      <td>0.551351</td>\n",
       "      <td>0.542741</td>\n",
       "      <td>0.560238</td>\n",
       "    </tr>\n",
       "    <tr>\n",
       "      <td>4</td>\n",
       "      <td>No log</td>\n",
       "      <td>1.418214</td>\n",
       "      <td>0.556522</td>\n",
       "      <td>0.549218</td>\n",
       "      <td>0.535754</td>\n",
       "      <td>0.563376</td>\n",
       "    </tr>\n",
       "    <tr>\n",
       "      <td>5</td>\n",
       "      <td>No log</td>\n",
       "      <td>1.677738</td>\n",
       "      <td>0.554978</td>\n",
       "      <td>0.540353</td>\n",
       "      <td>0.535317</td>\n",
       "      <td>0.545484</td>\n",
       "    </tr>\n",
       "  </tbody>\n",
       "</table><p>"
      ],
      "text/plain": [
       "<IPython.core.display.HTML object>"
      ]
     },
     "metadata": {},
     "output_type": "display_data"
    },
    {
     "data": {
      "text/plain": [
       "('models/tagged_useful_model\\\\tokenizer_config.json',\n",
       " 'models/tagged_useful_model\\\\special_tokens_map.json',\n",
       " 'models/tagged_useful_model\\\\vocab.txt',\n",
       " 'models/tagged_useful_model\\\\added_tokens.json',\n",
       " 'models/tagged_useful_model\\\\tokenizer.json')"
      ]
     },
     "execution_count": 25,
     "metadata": {},
     "output_type": "execute_result"
    }
   ],
   "source": [
    "tagged_useful_trainer.train()\n",
    "tagged_useful_trainer.save_model(\"models/tagged_useful_model\")\n",
    "tokenizer.save_pretrained(\"models/tagged_useful_model\")"
   ]
  },
  {
   "cell_type": "code",
   "execution_count": 26,
   "metadata": {},
   "outputs": [
    {
     "data": {
      "text/html": [],
      "text/plain": [
       "<IPython.core.display.HTML object>"
      ]
     },
     "metadata": {},
     "output_type": "display_data"
    },
    {
     "data": {
      "image/png": "[encoded data removed]",
      "text/plain": [
       "<Figure size 800x600 with 2 Axes>"
      ]
     },
     "metadata": {},
     "output_type": "display_data"
    },
    {
     "name": "stdout",
     "output_type": "stream",
     "text": [
      "              precision    recall  f1-score   support\n",
      "\n",
      "           0       0.58      0.62      0.60     26630\n",
      "           1       0.56      0.52      0.54     24536\n",
      "\n",
      "    accuracy                           0.57     51166\n",
      "   macro avg       0.57      0.57      0.57     51166\n",
      "weighted avg       0.57      0.57      0.57     51166\n",
      "\n"
     ]
    }
   ],
   "source": [
    "evaluate_model(tagged_useful_trainer, eval_dataset_useful_tagged)"
   ]
  },
  {
   "cell_type": "code",
   "execution_count": 105,
   "metadata": {},
   "outputs": [
    {
     "data": {
      "text/html": [
       "\n",
       "    <div>\n",
       "      \n",
       "      <progress value='1' max='1' style='width:300px; height:20px; vertical-align: middle;'></progress>\n",
       "      [1/1 : < :]\n",
       "    </div>\n",
       "    "
      ],
      "text/plain": [
       "<IPython.core.display.HTML object>"
      ]
     },
     "metadata": {},
     "output_type": "display_data"
    },
    {
     "name": "stderr",
     "output_type": "stream",
     "text": [
      "c:\\git\\wpi\\nlp\\venv\\Lib\\site-packages\\sklearn\\metrics\\_classification.py:1565: UndefinedMetricWarning: Recall is ill-defined and being set to 0.0 due to no true samples. Use `zero_division` parameter to control this behavior.\n",
      "  _warn_prf(average, modifier, f\"{metric.capitalize()} is\", len(result))\n"
     ]
    },
    {
     "data": {
      "text/html": [
       "\n",
       "    <div>\n",
       "      \n",
       "      <progress value='1' max='1' style='width:300px; height:20px; vertical-align: middle;'></progress>\n",
       "      [1/1 : < :]\n",
       "    </div>\n",
       "    "
      ],
      "text/plain": [
       "<IPython.core.display.HTML object>"
      ]
     },
     "metadata": {},
     "output_type": "display_data"
    },
    {
     "name": "stderr",
     "output_type": "stream",
     "text": [
      "c:\\git\\wpi\\nlp\\venv\\Lib\\site-packages\\sklearn\\metrics\\_classification.py:1565: UndefinedMetricWarning: Recall is ill-defined and being set to 0.0 due to no true samples. Use `zero_division` parameter to control this behavior.\n",
      "  _warn_prf(average, modifier, f\"{metric.capitalize()} is\", len(result))\n"
     ]
    },
    {
     "data": {
      "text/html": [
       "\n",
       "    <div>\n",
       "      \n",
       "      <progress value='1' max='1' style='width:300px; height:20px; vertical-align: middle;'></progress>\n",
       "      [1/1 : < :]\n",
       "    </div>\n",
       "    "
      ],
      "text/plain": [
       "<IPython.core.display.HTML object>"
      ]
     },
     "metadata": {},
     "output_type": "display_data"
    },
    {
     "name": "stdout",
     "output_type": "stream",
     "text": [
      "\n",
      "Tagged Funny Model Metrics:\n",
      "{'eval_loss': 0.70068359375, 'eval_accuracy': 0.0, 'eval_f1': 0.0, 'eval_precision': 0.0, 'eval_recall': 0.0, 'eval_runtime': 0.018, 'eval_samples_per_second': 55.524, 'eval_steps_per_second': 55.524, 'epoch': 5.0}\n",
      "\n",
      "Tagged Cool Model Metrics:\n",
      "{'eval_loss': 0.70751953125, 'eval_accuracy': 0.0, 'eval_f1': 0.0, 'eval_precision': 0.0, 'eval_recall': 0.0, 'eval_runtime': 0.0223, 'eval_samples_per_second': 44.821, 'eval_steps_per_second': 44.821, 'epoch': 5.0}\n",
      "\n",
      "Tagged Useful Model Metrics:\n",
      "{'eval_loss': 0.68017578125, 'eval_accuracy': 1.0, 'eval_f1': 0.0, 'eval_precision': 0.0, 'eval_recall': 0.0, 'eval_runtime': 0.0174, 'eval_samples_per_second': 57.372, 'eval_steps_per_second': 57.372, 'epoch': 5.0}\n"
     ]
    },
    {
     "name": "stderr",
     "output_type": "stream",
     "text": [
      "c:\\git\\wpi\\nlp\\venv\\Lib\\site-packages\\sklearn\\metrics\\_classification.py:1565: UndefinedMetricWarning: F-score is ill-defined and being set to 0.0 due to no true nor predicted samples. Use `zero_division` parameter to control this behavior.\n",
      "  _warn_prf(average, modifier, f\"{metric.capitalize()} is\", len(result))\n",
      "c:\\git\\wpi\\nlp\\venv\\Lib\\site-packages\\sklearn\\metrics\\_classification.py:1565: UndefinedMetricWarning: Precision is ill-defined and being set to 0.0 due to no predicted samples. Use `zero_division` parameter to control this behavior.\n",
      "  _warn_prf(average, modifier, f\"{metric.capitalize()} is\", len(result))\n",
      "c:\\git\\wpi\\nlp\\venv\\Lib\\site-packages\\sklearn\\metrics\\_classification.py:1565: UndefinedMetricWarning: Recall is ill-defined and being set to 0.0 due to no true samples. Use `zero_division` parameter to control this behavior.\n",
      "  _warn_prf(average, modifier, f\"{metric.capitalize()} is\", len(result))\n"
     ]
    }
   ],
   "source": [
    "# Get evaluation metrics for each tagged model\n",
    "funny_tagged_eval_metrics = tagged_funny_trainer.evaluate()\n",
    "cool_tagged_eval_metrics = tagged_cool_trainer.evaluate()\n",
    "useful_tagged_eval_metrics = tagged_useful_trainer.evaluate()\n",
    "\n",
    "# Print the metrics\n",
    "print(\"\\nTagged Funny Model Metrics:\")\n",
    "print(funny_tagged_eval_metrics)\n",
    "\n",
    "print(\"\\nTagged Cool Model Metrics:\")\n",
    "print(cool_tagged_eval_metrics)\n",
    "\n",
    "print(\"\\nTagged Useful Model Metrics:\")\n",
    "print(useful_tagged_eval_metrics)\n"
   ]
  },
  {
   "cell_type": "code",
   "execution_count": 106,
   "metadata": {},
   "outputs": [
    {
     "name": "stdout",
     "output_type": "stream",
     "text": [
      "Saved metrics for funny_model to models/funny_model/metrics.json\n",
      "Saved metrics for cool_model to models/cool_model/metrics.json\n",
      "Saved metrics for useful_model to models/useful_model/metrics.json\n",
      "Saved metrics for tagged_funny_model to models/tagged_funny_model/metrics.json\n",
      "Saved metrics for tagged_cool_model to models/tagged_cool_model/metrics.json\n",
      "Saved metrics for tagged_useful_model to models/tagged_useful_model/metrics.json\n"
     ]
    }
   ],
   "source": [
    "# Save metrics to JSON files\n",
    "import json\n",
    "\n",
    "# Create a dictionary with all metrics\n",
    "metrics_dict = {\n",
    "    'funny_model': funny_eval_metrics,\n",
    "    'cool_model': cool_eval_metrics,\n",
    "    'useful_model': useful_eval_metrics,\n",
    "    'tagged_funny_model': funny_tagged_eval_metrics,\n",
    "    'tagged_cool_model': cool_tagged_eval_metrics,\n",
    "    'tagged_useful_model': useful_tagged_eval_metrics\n",
    "}\n",
    "\n",
    "# Save to JSON files in their respective model directories\n",
    "for model_name, metrics in metrics_dict.items():\n",
    "    metrics_file = f\"models/{model_name}/metrics.json\"\n",
    "    with open(metrics_file, 'w') as f:\n",
    "        json.dump(metrics, f, indent=4)\n",
    "    print(f\"Saved metrics for {model_name} to {metrics_file}\")\n"
   ]
  },
  {
   "cell_type": "markdown",
   "metadata": {},
   "source": [
    "## Baseline Un-trained Model"
   ]
  },
  {
   "cell_type": "code",
   "execution_count": 38,
   "metadata": {},
   "outputs": [
    {
     "name": "stderr",
     "output_type": "stream",
     "text": [
      "Some weights of DistilBertForSequenceClassification were not initialized from the model checkpoint at distilbert-base-uncased and are newly initialized: ['classifier.bias', 'classifier.weight', 'pre_classifier.bias', 'pre_classifier.weight']\n",
      "You should probably TRAIN this model on a down-stream task to be able to use it for predictions and inference.\n",
      "Some weights of DistilBertForSequenceClassification were not initialized from the model checkpoint at distilbert-base-uncased and are newly initialized: ['classifier.bias', 'classifier.weight', 'pre_classifier.bias', 'pre_classifier.weight']\n",
      "You should probably TRAIN this model on a down-stream task to be able to use it for predictions and inference.\n",
      "Some weights of DistilBertForSequenceClassification were not initialized from the model checkpoint at distilbert-base-uncased and are newly initialized: ['classifier.bias', 'classifier.weight', 'pre_classifier.bias', 'pre_classifier.weight']\n",
      "You should probably TRAIN this model on a down-stream task to be able to use it for predictions and inference.\n"
     ]
    },
    {
     "data": {
      "text/html": [],
      "text/plain": [
       "<IPython.core.display.HTML object>"
      ]
     },
     "metadata": {},
     "output_type": "display_data"
    },
    {
     "data": {
      "text/html": [],
      "text/plain": [
       "<IPython.core.display.HTML object>"
      ]
     },
     "metadata": {},
     "output_type": "display_data"
    },
    {
     "data": {
      "text/html": [],
      "text/plain": [
       "<IPython.core.display.HTML object>"
      ]
     },
     "metadata": {},
     "output_type": "display_data"
    },
    {
     "name": "stdout",
     "output_type": "stream",
     "text": [
      "\n",
      "Baseline Funny Model Metrics:\n",
      "{'eval_loss': 0.6775043606758118, 'eval_model_preparation_time': 0.0016, 'eval_accuracy': 0.7791893053981159, 'eval_f1': 0.07408621537452877, 'eval_precision': 0.13484486873508353, 'eval_recall': 0.05107344632768362, 'eval_runtime': 82.0317, 'eval_samples_per_second': 623.734, 'eval_steps_per_second': 38.985}\n",
      "\n",
      "Baseline Cool Model Metrics:\n",
      "{'eval_loss': 0.7034768462181091, 'eval_model_preparation_time': 0.0016, 'eval_accuracy': 0.2988507993589493, 'eval_f1': 0.36304884327894466, 'eval_precision': 0.22780748663101605, 'eval_recall': 0.8934719916105917, 'eval_runtime': 81.8486, 'eval_samples_per_second': 625.13, 'eval_steps_per_second': 39.072}\n",
      "\n",
      "Baseline Useful Model Metrics:\n",
      "{'eval_loss': 0.6916060447692871, 'eval_model_preparation_time': 0.0016, 'eval_accuracy': 0.5303717312277685, 'eval_f1': 0.19648888145795018, 'eval_precision': 0.5472154963680388, 'eval_recall': 0.11974241930224976, 'eval_runtime': 81.7835, 'eval_samples_per_second': 625.627, 'eval_steps_per_second': 39.103}\n"
     ]
    }
   ],
   "source": [
    "# Create baseline models for each metric\n",
    "from transformers import DistilBertForSequenceClassification, DistilBertTokenizer, Trainer, TrainingArguments\n",
    "import torch\n",
    "import json\n",
    "\n",
    "# Initialize tokenizer\n",
    "tokenizer = DistilBertTokenizer.from_pretrained('distilbert-base-uncased')\n",
    "\n",
    "# Create baseline models\n",
    "baseline_funny_model = DistilBertForSequenceClassification.from_pretrained('distilbert-base-uncased', num_labels=2)\n",
    "baseline_cool_model = DistilBertForSequenceClassification.from_pretrained('distilbert-base-uncased', num_labels=2)\n",
    "baseline_useful_model = DistilBertForSequenceClassification.from_pretrained('distilbert-base-uncased', num_labels=2)\n",
    "\n",
    "# Create training arguments\n",
    "training_args = TrainingArguments(\n",
    "    output_dir='./results',  # Directory where the model predictions and checkpoints will be saved\n",
    "    num_train_epochs=5,  # Number of times the model will be trained on the entire training dataset\n",
    "    per_device_train_batch_size=16,  # Batch size for training on each device (GPU/CPU)\n",
    "    per_device_eval_batch_size=16,  # Batch size for evaluation on each device\n",
    "    warmup_steps=500,  # Number of steps for the learning rate warmup\n",
    "    weight_decay=0.01,  # Weight decay to apply (if any) for regularization\n",
    "    logging_dir='./logs',  # Directory for storing logs\n",
    "    logging_steps=5000,  # Log training metrics every 5000 steps\n",
    "    eval_strategy=\"epoch\",  # Evaluation strategy to adopt during training (evaluate at the end of each epoch)\n",
    "    save_strategy=\"epoch\",  # Save strategy to adopt during training (save at the end of each epoch)\n",
    "    load_best_model_at_end=True,  # Load the best model when finished training (based on evaluation metrics)\n",
    "    gradient_accumulation_steps=2,  # Number of updates steps to accumulate before performing a backward/update pass\n",
    "    fp16=True  # Enable mixed precision training\n",
    ")\n",
    "\n",
    "# Create trainers for each model\n",
    "baseline_funny_trainer = Trainer(\n",
    "    model=baseline_funny_model,\n",
    "    args=training_args,\n",
    "    train_dataset=train_dataset_funny,\n",
    "    eval_dataset=eval_dataset_funny,\n",
    "    compute_metrics=compute_metrics\n",
    ")\n",
    "\n",
    "baseline_cool_trainer = Trainer(\n",
    "    model=baseline_cool_model,\n",
    "    args=training_args,\n",
    "    train_dataset=train_dataset_cool,\n",
    "    eval_dataset=eval_dataset_cool,\n",
    "    compute_metrics=compute_metrics\n",
    ")\n",
    "\n",
    "baseline_useful_trainer = Trainer(\n",
    "    model=baseline_useful_model,\n",
    "    args=training_args,\n",
    "    train_dataset=train_dataset_useful,\n",
    "    eval_dataset=eval_dataset_useful,\n",
    "    compute_metrics=compute_metrics\n",
    ")\n",
    "\n",
    "# Save the baseline models\n",
    "baseline_funny_model.save_pretrained('models/baseline_funny_model')\n",
    "baseline_cool_model.save_pretrained('models/baseline_cool_model')\n",
    "baseline_useful_model.save_pretrained('models/baseline_useful_model')\n",
    "\n",
    "# Save the tokenizer\n",
    "tokenizer.save_pretrained('models/baseline_funny_model')\n",
    "tokenizer.save_pretrained('models/baseline_cool_model')\n",
    "tokenizer.save_pretrained('models/baseline_useful_model')\n",
    "\n",
    "\n",
    "# Get evaluation metrics for each baseline model\n",
    "baseline_funny_eval_metrics = baseline_funny_trainer.evaluate()\n",
    "baseline_cool_eval_metrics = baseline_cool_trainer.evaluate()\n",
    "baseline_useful_eval_metrics = baseline_useful_trainer.evaluate()\n",
    "\n",
    "# Print the metrics\n",
    "print(\"\\nBaseline Funny Model Metrics:\")\n",
    "print(baseline_funny_eval_metrics)\n",
    "\n",
    "print(\"\\nBaseline Cool Model Metrics:\")\n",
    "print(baseline_cool_eval_metrics)\n",
    "\n",
    "print(\"\\nBaseline Useful Model Metrics:\")\n",
    "print(baseline_useful_eval_metrics)\n",
    "\n"
   ]
  },
  {
   "cell_type": "code",
   "execution_count": null,
   "metadata": {},
   "outputs": [],
   "source": [
    "# Save metrics to JSON files\n",
    "metrics_dict = {\n",
    "    'baseline_funny_model': baseline_funny_eval_metrics,\n",
    "    'baseline_cool_model': baseline_cool_eval_metrics,\n",
    "    'baseline_useful_model': baseline_useful_eval_metrics\n",
    "}\n",
    "\n",
    "# Save to JSON files in their respective model directories\n",
    "for model_name, metrics in metrics_dict.items():\n",
    "    metrics_file = f\"models/{model_name}/metrics.json\"\n",
    "    with open(metrics_file, 'w') as f:\n",
    "        json.dump(metrics, f, indent=4)\n",
    "    print(f\"Saved metrics for {model_name} to {metrics_file}\")"
   ]
  },
  {
   "cell_type": "code",
   "execution_count": 39,
   "metadata": {},
   "outputs": [
    {
     "data": {
      "image/png": "[encoded data removed]",
      "text/plain": [
       "<Figure size 800x600 with 2 Axes>"
      ]
     },
     "metadata": {},
     "output_type": "display_data"
    },
    {
     "name": "stdout",
     "output_type": "stream",
     "text": [
      "              precision    recall  f1-score   support\n",
      "\n",
      "           0       0.81      0.13      0.22     39723\n",
      "           1       0.23      0.89      0.36     11443\n",
      "\n",
      "    accuracy                           0.30     51166\n",
      "   macro avg       0.52      0.51      0.29     51166\n",
      "weighted avg       0.68      0.30      0.25     51166\n",
      "\n"
     ]
    }
   ],
   "source": [
    "evaluate_model(baseline_cool_trainer, eval_dataset_cool)"
   ]
  },
  {
   "cell_type": "code",
   "execution_count": 40,
   "metadata": {},
   "outputs": [
    {
     "data": {
      "image/png": "[encoded data removed]",
      "text/plain": [
       "<Figure size 800x600 with 2 Axes>"
      ]
     },
     "metadata": {},
     "output_type": "display_data"
    },
    {
     "name": "stdout",
     "output_type": "stream",
     "text": [
      "              precision    recall  f1-score   support\n",
      "\n",
      "           0       0.82      0.93      0.87     42316\n",
      "           1       0.13      0.05      0.07      8850\n",
      "\n",
      "    accuracy                           0.78     51166\n",
      "   macro avg       0.48      0.49      0.47     51166\n",
      "weighted avg       0.71      0.78      0.74     51166\n",
      "\n"
     ]
    }
   ],
   "source": [
    "evaluate_model(baseline_funny_trainer, eval_dataset_funny)\n"
   ]
  },
  {
   "cell_type": "code",
   "execution_count": 41,
   "metadata": {},
   "outputs": [
    {
     "data": {
      "image/png": "[encoded data removed]",
      "text/plain": [
       "<Figure size 800x600 with 2 Axes>"
      ]
     },
     "metadata": {},
     "output_type": "display_data"
    },
    {
     "name": "stdout",
     "output_type": "stream",
     "text": [
      "              precision    recall  f1-score   support\n",
      "\n",
      "           0       0.53      0.91      0.67     26630\n",
      "           1       0.55      0.12      0.20     24536\n",
      "\n",
      "    accuracy                           0.53     51166\n",
      "   macro avg       0.54      0.51      0.43     51166\n",
      "weighted avg       0.54      0.53      0.44     51166\n",
      "\n"
     ]
    }
   ],
   "source": [
    "evaluate_model(baseline_useful_trainer, eval_dataset_useful)"
   ]
  },
  {
   "cell_type": "markdown",
   "metadata": {},
   "source": [
    "## Code Gen"
   ]
  },
  {
   "cell_type": "code",
   "execution_count": 111,
   "metadata": {},
   "outputs": [],
   "source": [
    "# Load the tokenizer and model\n",
    "from transformers import DistilBertForSequenceClassification, DistilBertTokenizer\n",
    "import torch\n",
    "\n",
    "# Load the useful model and tokenizer\n",
    "model_path = \"models/useful_model\"\n",
    "model = DistilBertForSequenceClassification.from_pretrained(model_path)\n",
    "tokenizer = DistilBertTokenizer.from_pretrained(model_path)\n"
   ]
  },
  {
   "cell_type": "code",
   "execution_count": 112,
   "metadata": {},
   "outputs": [],
   "source": [
    "# Create a dummy review\n",
    "dummy_review = \"I had an exceptional dining experience at this restaurant. The staff was incredibly attentive and knowledgeable about the menu. The chef's special pasta dish was cooked to perfection with a rich, flavorful sauce. The ambiance was cozy and perfect for a date night. I highly recommend trying their signature dessert - the chocolate lava cake was absolutely divine!\"\n",
    "\n",
    "# Tokenize the review\n",
    "inputs = tokenizer(dummy_review, return_tensors=\"pt\", truncation=True, max_length=512)"
   ]
  },
  {
   "cell_type": "code",
   "execution_count": 113,
   "metadata": {},
   "outputs": [
    {
     "name": "stdout",
     "output_type": "stream",
     "text": [
      "tensor([0])\n",
      "Usefulness score: 0.00\n"
     ]
    }
   ],
   "source": [
    "# Run inference\n",
    "with torch.no_grad():\n",
    "    outputs = model(**inputs)\n",
    "    predictions = outputs.logits\n",
    "    probs = np.argmax(predictions, axis=1)\n",
    "    print(probs)\n",
    "    score = probs[0]\n",
    "    \n",
    "# Print the prediction\n",
    "# print(f\"Review: {dummy_review}\")\n",
    "print(f\"Usefulness score: {score:.2f}\")"
   ]
  }
 ],
 "metadata": {
  "kernelspec": {
   "display_name": "venv",
   "language": "python",
   "name": "python3"
  },
  "language_info": {
   "codemirror_mode": {
    "name": "ipython",
    "version": 3
   },
   "file_extension": ".py",
   "mimetype": "text/x-python",
   "name": "python",
   "nbconvert_exporter": "python",
   "pygments_lexer": "ipython3",
   "version": "3.12.10"
  }
 },
 "nbformat": 4,
 "nbformat_minor": 2
}
